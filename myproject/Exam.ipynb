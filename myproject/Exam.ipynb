{
 "cells": [
  {
   "cell_type": "markdown",
   "metadata": {},
   "source": [
    "# Q1 A table\n",
    "# Q2 Summarized table\n",
    "# Q3 Forward Relation\n",
    "# Q4 Reverse Relation\n",
    "# Q5 Annotate\n",
    "# Q6 Groupby Aggregrate\n",
    "# Q7 Complex query\n",
    "# Q8 Complex query\n",
    "# Q9 Complex query\n",
    "# Q10 Very Complex query"
   ]
  },
  {
   "cell_type": "code",
   "execution_count": null,
   "metadata": {},
   "outputs": [],
   "source": []
  }
 ],
 "metadata": {
  "kernelspec": {
   "display_name": "Django Shell-Plus",
   "language": "python",
   "name": "django_extensions"
  },
  "language_info": {
   "codemirror_mode": {
    "name": "ipython",
    "version": 3
   },
   "file_extension": ".py",
   "mimetype": "text/x-python",
   "name": "python",
   "nbconvert_exporter": "python",
   "pygments_lexer": "ipython3",
   "version": "3.6.6"
  }
 },
 "nbformat": 4,
 "nbformat_minor": 2
}
